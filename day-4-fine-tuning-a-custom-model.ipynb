{
 "cells": [
  {
   "cell_type": "markdown",
   "id": "0a132d35",
   "metadata": {
    "id": "b6e13eef3f5d",
    "papermill": {
     "duration": 0.013952,
     "end_time": "2024-11-14T04:28:27.779341",
     "exception": false,
     "start_time": "2024-11-14T04:28:27.765389",
     "status": "completed"
    },
    "tags": []
   },
   "source": [
    "##### Copyright 2024 Google LLC."
   ]
  },
  {
   "cell_type": "code",
   "execution_count": 1,
   "id": "6a83a4b2",
   "metadata": {
    "cellView": "form",
    "execution": {
     "iopub.execute_input": "2024-11-14T04:28:27.807635Z",
     "iopub.status.busy": "2024-11-14T04:28:27.807195Z",
     "iopub.status.idle": "2024-11-14T04:28:27.813435Z",
     "shell.execute_reply": "2024-11-14T04:28:27.812352Z"
    },
    "id": "d6597b11df14",
    "jupyter": {
     "source_hidden": true
    },
    "papermill": {
     "duration": 0.023542,
     "end_time": "2024-11-14T04:28:27.816052",
     "exception": false,
     "start_time": "2024-11-14T04:28:27.792510",
     "status": "completed"
    },
    "tags": []
   },
   "outputs": [],
   "source": [
    "# @title Licensed under the Apache License, Version 2.0 (the \"License\");\n",
    "# you may not use this file except in compliance with the License.\n",
    "# You may obtain a copy of the License at\n",
    "#\n",
    "# https://www.apache.org/licenses/LICENSE-2.0\n",
    "#\n",
    "# Unless required by applicable law or agreed to in writing, software\n",
    "# distributed under the License is distributed on an \"AS IS\" BASIS,\n",
    "# WITHOUT WARRANTIES OR CONDITIONS OF ANY KIND, either express or implied.\n",
    "# See the License for the specific language governing permissions and\n",
    "# limitations under the License."
   ]
  },
  {
   "cell_type": "markdown",
   "id": "620f0767",
   "metadata": {
    "id": "4KDIFPAL2EnL",
    "papermill": {
     "duration": 0.013004,
     "end_time": "2024-11-14T04:28:27.843229",
     "exception": false,
     "start_time": "2024-11-14T04:28:27.830225",
     "status": "completed"
    },
    "tags": []
   },
   "source": [
    "# Day 4 - Fine tuning a custom model\n",
    "\n",
    "Welcome back to the Kaggle 5-day Generative AI course!\n",
    "\n",
    "In this notebook you will use the Gemini API to fine-tune a custom, task-specific model. Fine-tuning can be used for a variety of tasks from classic NLP problems like entity extraction or summarisation, to creative tasks like stylised generation. You will fine-tune a model to classify the category a piece of text (a newsgroup post) into the category it belongs to (the newsgroup name).\n",
    "\n",
    "This codelab walks you tuning a model with the API. [AI Studio](https://aistudio.google.com/app/tune) also supports creating new tuned models directly in the web UI, allowing you to quickly create and monitor models using data from Google Sheets, Drive or your own files."
   ]
  },
  {
   "cell_type": "code",
   "execution_count": 2,
   "id": "090d8655",
   "metadata": {
    "execution": {
     "iopub.execute_input": "2024-11-14T04:28:27.871197Z",
     "iopub.status.busy": "2024-11-14T04:28:27.870772Z",
     "iopub.status.idle": "2024-11-14T04:29:03.926611Z",
     "shell.execute_reply": "2024-11-14T04:29:03.925275Z"
    },
    "id": "9wafTyEH1_xF",
    "papermill": {
     "duration": 36.085685,
     "end_time": "2024-11-14T04:29:03.942000",
     "exception": false,
     "start_time": "2024-11-14T04:28:27.856315",
     "status": "completed"
    },
    "tags": []
   },
   "outputs": [
    {
     "name": "stdout",
     "output_type": "stream",
     "text": [
      "Note: you may need to restart the kernel to use updated packages.\n"
     ]
    }
   ],
   "source": [
    "%pip install -U -q 'google-generativeai>=0.8.3'"
   ]
  },
  {
   "cell_type": "markdown",
   "id": "c76f9d0e",
   "metadata": {
    "papermill": {
     "duration": 0.013199,
     "end_time": "2024-11-14T04:29:03.968332",
     "exception": false,
     "start_time": "2024-11-14T04:29:03.955133",
     "status": "completed"
    },
    "tags": []
   },
   "source": [
    "Note that you do not have to restart the kernel."
   ]
  },
  {
   "cell_type": "code",
   "execution_count": 3,
   "id": "0deb14a1",
   "metadata": {
    "execution": {
     "iopub.execute_input": "2024-11-14T04:29:03.997098Z",
     "iopub.status.busy": "2024-11-14T04:29:03.996603Z",
     "iopub.status.idle": "2024-11-14T04:29:05.348889Z",
     "shell.execute_reply": "2024-11-14T04:29:05.347731Z"
    },
    "id": "T0CBG9xL2PvT",
    "papermill": {
     "duration": 1.370366,
     "end_time": "2024-11-14T04:29:05.351830",
     "exception": false,
     "start_time": "2024-11-14T04:29:03.981464",
     "status": "completed"
    },
    "tags": []
   },
   "outputs": [],
   "source": [
    "import google.generativeai as genai"
   ]
  },
  {
   "cell_type": "markdown",
   "id": "875943f3",
   "metadata": {
    "id": "P4bYX2T72ScK",
    "papermill": {
     "duration": 0.013319,
     "end_time": "2024-11-14T04:29:05.378779",
     "exception": false,
     "start_time": "2024-11-14T04:29:05.365460",
     "status": "completed"
    },
    "tags": []
   },
   "source": [
    "### Set up your API key\n",
    "\n",
    "To run the following cell, your API key must be stored it in a [Kaggle secret](https://www.kaggle.com/discussions/product-feedback/114053) named `GOOGLE_API_KEY`.\n",
    "\n",
    "If you don't already have an API key, you can grab one from [AI Studio](https://aistudio.google.com/app/apikey). You can find [detailed instructions in the docs](https://ai.google.dev/gemini-api/docs/api-key).\n",
    "\n",
    "To make the key available through Kaggle secrets, choose `Secrets` from the `Add-ons` menu and follow the instructions to add your key or enable it for this notebook."
   ]
  },
  {
   "cell_type": "code",
   "execution_count": 4,
   "id": "2074abbd",
   "metadata": {
    "execution": {
     "iopub.execute_input": "2024-11-14T04:29:05.408127Z",
     "iopub.status.busy": "2024-11-14T04:29:05.407019Z",
     "iopub.status.idle": "2024-11-14T04:29:05.607014Z",
     "shell.execute_reply": "2024-11-14T04:29:05.605766Z"
    },
    "id": "VuJPY3GK2SLZ",
    "papermill": {
     "duration": 0.217905,
     "end_time": "2024-11-14T04:29:05.609978",
     "exception": false,
     "start_time": "2024-11-14T04:29:05.392073",
     "status": "completed"
    },
    "tags": []
   },
   "outputs": [],
   "source": [
    "from kaggle_secrets import UserSecretsClient\n",
    "\n",
    "GOOGLE_API_KEY = UserSecretsClient().get_secret(\"GOOGLE_API_KEY\")\n",
    "genai.configure(api_key=GOOGLE_API_KEY)"
   ]
  },
  {
   "attachments": {
    "53e1d527-de81-497e-bfac-58df458e750b.png": {
     "image/png": "[encoded data removed]"
    }
   },
   "cell_type": "markdown",
   "id": "6d416e4a",
   "metadata": {
    "id": "25b2127c2052",
    "papermill": {
     "duration": 0.01262,
     "end_time": "2024-11-14T04:29:05.635881",
     "exception": false,
     "start_time": "2024-11-14T04:29:05.623261",
     "status": "completed"
    },
    "tags": []
   },
   "source": [
    "If you received an error response along the lines of `No user secrets exist for kernel id ...`, then you need to add your API key via `Add-ons`, `Secrets` **and** enable it.\n",
    "\n",
    "![Screenshot of the checkbox to enable GOOGLE_API_KEY secret](https://storage.googleapis.com/kaggle-media/Images/5gdai_sc_3.png)"
   ]
  },
  {
   "cell_type": "markdown",
   "id": "8bc980e9",
   "metadata": {
    "id": "CqVA5QFO6n4z",
    "papermill": {
     "duration": 0.012591,
     "end_time": "2024-11-14T04:29:05.661568",
     "exception": false,
     "start_time": "2024-11-14T04:29:05.648977",
     "status": "completed"
    },
    "tags": []
   },
   "source": [
    "### Explore available models\n",
    "\n",
    "You will be using the [`TunedModel.create`](https://ai.google.dev/api/tuning#method:-tunedmodels.create) API method to start the fine-tuning job and create your custom model. Find a model that supports it through the [`models.list`](https://ai.google.dev/api/models#method:-models.list) endpoint. You can also find more information about tuning models in [the model tuning docs](https://ai.google.dev/gemini-api/docs/model-tuning/tutorial?lang=python)."
   ]
  },
  {
   "cell_type": "code",
   "execution_count": 5,
   "id": "36b47dca",
   "metadata": {
    "execution": {
     "iopub.execute_input": "2024-11-14T04:29:05.689803Z",
     "iopub.status.busy": "2024-11-14T04:29:05.688908Z",
     "iopub.status.idle": "2024-11-14T04:29:06.196008Z",
     "shell.execute_reply": "2024-11-14T04:29:06.194604Z"
    },
    "id": "coEacWAB6o0G",
    "papermill": {
     "duration": 0.523893,
     "end_time": "2024-11-14T04:29:06.198539",
     "exception": false,
     "start_time": "2024-11-14T04:29:05.674646",
     "status": "completed"
    },
    "tags": []
   },
   "outputs": [
    {
     "name": "stdout",
     "output_type": "stream",
     "text": [
      "models/gemini-1.0-pro-001\n",
      "models/gemini-1.5-flash-001-tuning\n"
     ]
    }
   ],
   "source": [
    "for model in genai.list_models():\n",
    "    if \"createTunedModel\" in model.supported_generation_methods:\n",
    "        print(model.name)"
   ]
  },
  {
   "cell_type": "markdown",
   "id": "8e60f06d",
   "metadata": {
    "id": "peFm0w_0c1CO",
    "papermill": {
     "duration": 0.01273,
     "end_time": "2024-11-14T04:29:06.224526",
     "exception": false,
     "start_time": "2024-11-14T04:29:06.211796",
     "status": "completed"
    },
    "tags": []
   },
   "source": [
    "## Download the dataset\n",
    "\n",
    "In this activity, you will use the same newsgroups dataset that you used to train a classifier in Keras. In this example you will use a fine-tuned Gemini model to achieve the same goal.\n",
    "\n",
    "The [20 Newsgroups Text Dataset](https://scikit-learn.org/0.19/datasets/twenty_newsgroups.html) contains 18,000 newsgroups posts on 20 topics divided into training and test sets."
   ]
  },
  {
   "cell_type": "code",
   "execution_count": 6,
   "id": "cb288b2a",
   "metadata": {
    "execution": {
     "iopub.execute_input": "2024-11-14T04:29:06.252493Z",
     "iopub.status.busy": "2024-11-14T04:29:06.252053Z",
     "iopub.status.idle": "2024-11-14T04:29:18.246032Z",
     "shell.execute_reply": "2024-11-14T04:29:18.244736Z"
    },
    "id": "bX_kpgnQ9b-Z",
    "papermill": {
     "duration": 12.010927,
     "end_time": "2024-11-14T04:29:18.248563",
     "exception": false,
     "start_time": "2024-11-14T04:29:06.237636",
     "status": "completed"
    },
    "tags": []
   },
   "outputs": [
    {
     "data": {
      "text/plain": [
       "['alt.atheism',\n",
       " 'comp.graphics',\n",
       " 'comp.os.ms-windows.misc',\n",
       " 'comp.sys.ibm.pc.hardware',\n",
       " 'comp.sys.mac.hardware',\n",
       " 'comp.windows.x',\n",
       " 'misc.forsale',\n",
       " 'rec.autos',\n",
       " 'rec.motorcycles',\n",
       " 'rec.sport.baseball',\n",
       " 'rec.sport.hockey',\n",
       " 'sci.crypt',\n",
       " 'sci.electronics',\n",
       " 'sci.med',\n",
       " 'sci.space',\n",
       " 'soc.religion.christian',\n",
       " 'talk.politics.guns',\n",
       " 'talk.politics.mideast',\n",
       " 'talk.politics.misc',\n",
       " 'talk.religion.misc']"
      ]
     },
     "execution_count": 6,
     "metadata": {},
     "output_type": "execute_result"
    }
   ],
   "source": [
    "from sklearn.datasets import fetch_20newsgroups\n",
    "\n",
    "newsgroups_train = fetch_20newsgroups(subset=\"train\")\n",
    "newsgroups_test = fetch_20newsgroups(subset=\"test\")\n",
    "\n",
    "# View list of class names for dataset\n",
    "newsgroups_train.target_names"
   ]
  },
  {
   "cell_type": "markdown",
   "id": "6c54110b",
   "metadata": {
    "id": "ipafe6ptZFjt",
    "papermill": {
     "duration": 0.013109,
     "end_time": "2024-11-14T04:29:18.275258",
     "exception": false,
     "start_time": "2024-11-14T04:29:18.262149",
     "status": "completed"
    },
    "tags": []
   },
   "source": [
    "Here's what a single row looks like."
   ]
  },
  {
   "cell_type": "code",
   "execution_count": 7,
   "id": "5e9343f2",
   "metadata": {
    "execution": {
     "iopub.execute_input": "2024-11-14T04:29:18.303618Z",
     "iopub.status.busy": "2024-11-14T04:29:18.303192Z",
     "iopub.status.idle": "2024-11-14T04:29:18.309406Z",
     "shell.execute_reply": "2024-11-14T04:29:18.308288Z"
    },
    "id": "EtEXcdT39hCB",
    "papermill": {
     "duration": 0.023661,
     "end_time": "2024-11-14T04:29:18.312230",
     "exception": false,
     "start_time": "2024-11-14T04:29:18.288569",
     "status": "completed"
    },
    "tags": []
   },
   "outputs": [
    {
     "name": "stdout",
     "output_type": "stream",
     "text": [
      "From: twillis@ec.ecn.purdue.edu (Thomas E Willis)\n",
      "Subject: PB questions...\n",
      "Organization: Purdue University Engineering Computer Network\n",
      "Distribution: usa\n",
      "Lines: 36\n",
      "\n",
      "well folks, my mac plus finally gave up the ghost this weekend after\n",
      "starting life as a 512k way back in 1985.  sooo, i'm in the market for a\n",
      "new machine a bit sooner than i intended to be...\n",
      "\n",
      "i'm looking into picking up a powerbook 160 or maybe 180 and have a bunch\n",
      "of questions that (hopefully) somebody can answer:\n",
      "\n",
      "* does anybody know any dirt on when the next round of powerbook\n",
      "introductions are expected?  i'd heard the 185c was supposed to make an\n",
      "appearence \"this summer\" but haven't heard anymore on it - and since i\n",
      "don't have access to macleak, i was wondering if anybody out there had\n",
      "more info...\n",
      "\n",
      "* has anybody heard rumors about price drops to the powerbook line like the\n",
      "ones the duo's just went through recently?\n",
      "\n",
      "* what's the impression of the display on the 180?  i could probably swing\n",
      "a 180 if i got the 80Mb disk rather than the 120, but i don't really have\n",
      "a feel for how much \"better\" the display is (yea, it looks great in the\n",
      "store, but is that all \"wow\" or is it really that good?).  could i solicit\n",
      "some opinions of people who use the 160 and 180 day-to-day on if its worth\n",
      "taking the disk size and money hit to get the active display?  (i realize\n",
      "this is a real subjective question, but i've only played around with the\n",
      "machines in a computer store breifly and figured the opinions of somebody\n",
      "who actually uses the machine daily might prove helpful).\n",
      "\n",
      "* how well does hellcats perform?  ;)\n",
      "\n",
      "thanks a bunch in advance for any info - if you could email, i'll post a\n",
      "summary (news reading time is at a premium with finals just around the\n",
      "corner... :( )\n",
      "--\n",
      "Tom Willis  \\  twillis@ecn.purdue.edu    \\    Purdue Electrical Engineering\n",
      "---------------------------------------------------------------------------\n",
      "\"Convictions are more dangerous enemies of truth than lies.\"  - F. W.\n",
      "Nietzsche\n",
      "\n"
     ]
    }
   ],
   "source": [
    "print(newsgroups_train.data[2])"
   ]
  },
  {
   "cell_type": "markdown",
   "id": "02e64f3c",
   "metadata": {
    "id": "03lDs1O4ZQ0-",
    "papermill": {
     "duration": 0.013165,
     "end_time": "2024-11-14T04:29:18.339093",
     "exception": false,
     "start_time": "2024-11-14T04:29:18.325928",
     "status": "completed"
    },
    "tags": []
   },
   "source": [
    "## Prepare the dataset\n",
    "\n",
    "You'll use the same pre-processing code you used for the custom model on day 2. This pre-processing removes personal information, which can be used to \"shortcut\" to known users of a forum, and formats the text to appear a bit more like regular text and less like a newsgroup post (e.g. by removing the mail headers). This normalisation allows the model to generalise to regular text and not over-depend on specific fields. If your input data is always going to be newsgroup posts, it may be helpful to leave this structure in place if they provide genuine signals."
   ]
  },
  {
   "cell_type": "code",
   "execution_count": 8,
   "id": "9213b540",
   "metadata": {
    "execution": {
     "iopub.execute_input": "2024-11-14T04:29:18.371365Z",
     "iopub.status.busy": "2024-11-14T04:29:18.370949Z",
     "iopub.status.idle": "2024-11-14T04:29:19.380136Z",
     "shell.execute_reply": "2024-11-14T04:29:19.378980Z"
    },
    "id": "IoNYTxpoZgB0",
    "papermill": {
     "duration": 1.030624,
     "end_time": "2024-11-14T04:29:19.383128",
     "exception": false,
     "start_time": "2024-11-14T04:29:18.352504",
     "status": "completed"
    },
    "tags": []
   },
   "outputs": [],
   "source": [
    "import email\n",
    "import re\n",
    "\n",
    "import pandas as pd\n",
    "\n",
    "\n",
    "def preprocess_newsgroup_row(data):\n",
    "    # Extract only the subject and body\n",
    "    msg = email.message_from_string(data)\n",
    "    text = f\"{msg['Subject']}\\n\\n{msg.get_payload()}\"\n",
    "    # Strip any remaining email addresses\n",
    "    text = re.sub(r\"[\\w\\.-]+@[\\w\\.-]+\", \"\", text)\n",
    "    # Truncate the text to fit within the input limits\n",
    "    text = text[:40000]\n",
    "\n",
    "    return text\n",
    "\n",
    "\n",
    "def preprocess_newsgroup_data(newsgroup_dataset):\n",
    "    # Put data points into dataframe\n",
    "    df = pd.DataFrame(\n",
    "        {\"Text\": newsgroup_dataset.data, \"Label\": newsgroup_dataset.target}\n",
    "    )\n",
    "    # Clean up the text\n",
    "    df[\"Text\"] = df[\"Text\"].apply(preprocess_newsgroup_row)\n",
    "    # Match label to target name index\n",
    "    df[\"Class Name\"] = df[\"Label\"].map(lambda l: newsgroup_dataset.target_names[l])\n",
    "\n",
    "    return df"
   ]
  },
  {
   "cell_type": "code",
   "execution_count": 9,
   "id": "600e45cb",
   "metadata": {
    "execution": {
     "iopub.execute_input": "2024-11-14T04:29:19.412822Z",
     "iopub.status.busy": "2024-11-14T04:29:19.411541Z",
     "iopub.status.idle": "2024-11-14T04:29:26.206844Z",
     "shell.execute_reply": "2024-11-14T04:29:26.205726Z"
    },
    "id": "kvOsUSRWaW4g",
    "papermill": {
     "duration": 6.812741,
     "end_time": "2024-11-14T04:29:26.209535",
     "exception": false,
     "start_time": "2024-11-14T04:29:19.396794",
     "status": "completed"
    },
    "tags": []
   },
   "outputs": [
    {
     "data": {
      "text/html": [
       "<div>\n",
       "<style scoped>\n",
       "    .dataframe tbody tr th:only-of-type {\n",
       "        vertical-align: middle;\n",
       "    }\n",
       "\n",
       "    .dataframe tbody tr th {\n",
       "        vertical-align: top;\n",
       "    }\n",
       "\n",
       "    .dataframe thead th {\n",
       "        text-align: right;\n",
       "    }\n",
       "</style>\n",
       "<table border=\"1\" class=\"dataframe\">\n",
       "  <thead>\n",
       "    <tr style=\"text-align: right;\">\n",
       "      <th></th>\n",
       "      <th>Text</th>\n",
       "      <th>Label</th>\n",
       "      <th>Class Name</th>\n",
       "    </tr>\n",
       "  </thead>\n",
       "  <tbody>\n",
       "    <tr>\n",
       "      <th>0</th>\n",
       "      <td>WHAT car is this!?\\n\\n I was wondering if anyo...</td>\n",
       "      <td>7</td>\n",
       "      <td>rec.autos</td>\n",
       "    </tr>\n",
       "    <tr>\n",
       "      <th>1</th>\n",
       "      <td>SI Clock Poll - Final Call\\n\\nA fair number of...</td>\n",
       "      <td>4</td>\n",
       "      <td>comp.sys.mac.hardware</td>\n",
       "    </tr>\n",
       "    <tr>\n",
       "      <th>2</th>\n",
       "      <td>PB questions...\\n\\nwell folks, my mac plus fin...</td>\n",
       "      <td>4</td>\n",
       "      <td>comp.sys.mac.hardware</td>\n",
       "    </tr>\n",
       "    <tr>\n",
       "      <th>3</th>\n",
       "      <td>Re: Weitek P9000 ?\\n\\nRobert J.C. Kyanko () wr...</td>\n",
       "      <td>1</td>\n",
       "      <td>comp.graphics</td>\n",
       "    </tr>\n",
       "    <tr>\n",
       "      <th>4</th>\n",
       "      <td>Re: Shuttle Launch Question\\n\\nFrom article &lt;&gt;...</td>\n",
       "      <td>14</td>\n",
       "      <td>sci.space</td>\n",
       "    </tr>\n",
       "  </tbody>\n",
       "</table>\n",
       "</div>"
      ],
      "text/plain": [
       "                                                Text  Label  \\\n",
       "0  WHAT car is this!?\\n\\n I was wondering if anyo...      7   \n",
       "1  SI Clock Poll - Final Call\\n\\nA fair number of...      4   \n",
       "2  PB questions...\\n\\nwell folks, my mac plus fin...      4   \n",
       "3  Re: Weitek P9000 ?\\n\\nRobert J.C. Kyanko () wr...      1   \n",
       "4  Re: Shuttle Launch Question\\n\\nFrom article <>...     14   \n",
       "\n",
       "              Class Name  \n",
       "0              rec.autos  \n",
       "1  comp.sys.mac.hardware  \n",
       "2  comp.sys.mac.hardware  \n",
       "3          comp.graphics  \n",
       "4              sci.space  "
      ]
     },
     "execution_count": 9,
     "metadata": {},
     "output_type": "execute_result"
    }
   ],
   "source": [
    "# Apply preprocessing to training and test datasets\n",
    "df_train = preprocess_newsgroup_data(newsgroups_train)\n",
    "df_test = preprocess_newsgroup_data(newsgroups_test)\n",
    "\n",
    "df_train.head()"
   ]
  },
  {
   "cell_type": "markdown",
   "id": "bdd91aa1",
   "metadata": {
    "id": "XSKcj5WtadaR",
    "papermill": {
     "duration": 0.01401,
     "end_time": "2024-11-14T04:29:26.237567",
     "exception": false,
     "start_time": "2024-11-14T04:29:26.223557",
     "status": "completed"
    },
    "tags": []
   },
   "source": [
    "Now sample the data. You will keep 50 rows for each category for training. Note that this is even fewer than the Keras example, as this technique (parameter-efficient fine-tuning, or PEFT) updates a relatively small number of parameters and does not require training a new model or updating the large model."
   ]
  },
  {
   "cell_type": "code",
   "execution_count": 10,
   "id": "a55722ea",
   "metadata": {
    "execution": {
     "iopub.execute_input": "2024-11-14T04:29:26.267179Z",
     "iopub.status.busy": "2024-11-14T04:29:26.266598Z",
     "iopub.status.idle": "2024-11-14T04:29:26.321332Z",
     "shell.execute_reply": "2024-11-14T04:29:26.319899Z"
    },
    "id": "0t9Xu6X5akkt",
    "papermill": {
     "duration": 0.072898,
     "end_time": "2024-11-14T04:29:26.324307",
     "exception": false,
     "start_time": "2024-11-14T04:29:26.251409",
     "status": "completed"
    },
    "tags": []
   },
   "outputs": [],
   "source": [
    "def sample_data(df, num_samples, classes_to_keep):\n",
    "    # Sample rows, selecting num_samples of each Label.\n",
    "    df = (\n",
    "        df.groupby(\"Label\")[df.columns]\n",
    "        .apply(lambda x: x.sample(num_samples))\n",
    "        .reset_index(drop=True)\n",
    "    )\n",
    "\n",
    "    df = df[df[\"Class Name\"].str.contains(classes_to_keep)]\n",
    "    df[\"Class Name\"] = df[\"Class Name\"].astype(\"category\")\n",
    "\n",
    "    return df\n",
    "\n",
    "\n",
    "TRAIN_NUM_SAMPLES = 50\n",
    "TEST_NUM_SAMPLES = 10\n",
    "# Keep rec.* and sci.*\n",
    "CLASSES_TO_KEEP = \"^rec|^sci\"\n",
    "\n",
    "df_train = sample_data(df_train, TRAIN_NUM_SAMPLES, CLASSES_TO_KEEP)\n",
    "df_test = sample_data(df_test, TEST_NUM_SAMPLES, CLASSES_TO_KEEP)"
   ]
  },
  {
   "cell_type": "markdown",
   "id": "111d6d4f",
   "metadata": {
    "papermill": {
     "duration": 0.01355,
     "end_time": "2024-11-14T04:29:26.352304",
     "exception": false,
     "start_time": "2024-11-14T04:29:26.338754",
     "status": "completed"
    },
    "tags": []
   },
   "source": [
    "## Evaluate baseline performance\n",
    "\n",
    "Before you start tuning a model, it's good practice to perform an evaluation on the available models to ensure you can measure how much the tuning helps.\n",
    "\n",
    "First identify a single sample row to use for visual inspection."
   ]
  },
  {
   "cell_type": "code",
   "execution_count": 11,
   "id": "30d253f1",
   "metadata": {
    "execution": {
     "iopub.execute_input": "2024-11-14T04:29:26.382336Z",
     "iopub.status.busy": "2024-11-14T04:29:26.381917Z",
     "iopub.status.idle": "2024-11-14T04:29:26.389486Z",
     "shell.execute_reply": "2024-11-14T04:29:26.388201Z"
    },
    "papermill": {
     "duration": 0.02635,
     "end_time": "2024-11-14T04:29:26.393087",
     "exception": false,
     "start_time": "2024-11-14T04:29:26.366737",
     "status": "completed"
    },
    "tags": []
   },
   "outputs": [
    {
     "name": "stdout",
     "output_type": "stream",
     "text": [
      "Need info on 88-89 Bonneville\n",
      "\n",
      "\n",
      " I am a little confused on all of the models of the 88-89 bonnevilles.\n",
      "I have heard of the LE SE LSE SSE SSEI. Could someone tell me the\n",
      "differences are far as features or performance. I am also curious to\n",
      "know what the book value is for prefereably the 89 model. And how much\n",
      "less than book value can you usually get them for. In other words how\n",
      "much are they in demand this time of year. I have heard that the mid-spring\n",
      "early summer is the best time to buy.\n",
      "\n",
      "\t\t\tNeil Gandler\n",
      "\n",
      "---\n",
      "Label: rec.autos\n"
     ]
    }
   ],
   "source": [
    "sample_idx = 0\n",
    "sample_row = preprocess_newsgroup_row(newsgroups_test.data[sample_idx])\n",
    "sample_label = newsgroups_test.target_names[newsgroups_test.target[sample_idx]]\n",
    "\n",
    "print(sample_row)\n",
    "print('---')\n",
    "print('Label:', sample_label)"
   ]
  },
  {
   "cell_type": "markdown",
   "id": "d9475593",
   "metadata": {
    "papermill": {
     "duration": 0.013399,
     "end_time": "2024-11-14T04:29:26.420588",
     "exception": false,
     "start_time": "2024-11-14T04:29:26.407189",
     "status": "completed"
    },
    "tags": []
   },
   "source": [
    "Passing the text directly in as a prompt does not yield the desired results. The model will attempt to respond to the message."
   ]
  },
  {
   "cell_type": "code",
   "execution_count": 12,
   "id": "1b259d2e",
   "metadata": {
    "execution": {
     "iopub.execute_input": "2024-11-14T04:29:26.450294Z",
     "iopub.status.busy": "2024-11-14T04:29:26.449817Z",
     "iopub.status.idle": "2024-11-14T04:29:30.130911Z",
     "shell.execute_reply": "2024-11-14T04:29:30.129534Z"
    },
    "papermill": {
     "duration": 3.699314,
     "end_time": "2024-11-14T04:29:30.133864",
     "exception": false,
     "start_time": "2024-11-14T04:29:26.434550",
     "status": "completed"
    },
    "tags": []
   },
   "outputs": [
    {
     "name": "stdout",
     "output_type": "stream",
     "text": [
      "## 1988-1989 Pontiac Bonnevilles: A Model Guide\n",
      "\n",
      "You're right, the 1988-1989 Bonneville lineup can be confusing! Let's break it down:\n",
      "\n",
      "**The Trim Levels:**\n",
      "\n",
      "* **LE:** The base model. It featured a 3.8L V6 engine, cloth upholstery, and basic features.\n",
      "* **SE:** This trim offered a slightly more luxurious interior with better soundproofing, vinyl upholstery, and some extra features like cruise control and power windows.\n",
      "* **LSE:**  This trim was essentially the same as the SE, but came with a special \"Limited Edition\" package, featuring a more distinctive exterior and interior design.\n",
      "* **SSE:** The SSE (Sport Sedan Edition) offered more power thanks to a 3.8L V6 with a 2-barrel carburetor and higher output. It also featured sporty wheels, upgraded suspension, and a sporty interior.\n",
      "* **SSEi:** This was the top-of-the-line model. It offered a fuel-injected 3.8L V6 engine, generating even more horsepower than the SSE. It also came with an even sportier interior and exterior.\n",
      "\n",
      "**Performance and Features:**\n",
      "\n",
      "| Model | Engine | Horsepower | Transmission | Features |\n",
      "|---|---|---|---|---|\n",
      "| LE | 3.8L V6 | 135 hp | 3-speed automatic | Basic |\n",
      "| SE | 3.8L V6 | 135 hp | 3-speed automatic | More comfortable interior, some power options |\n",
      "| LSE | 3.8L V6 | 135 hp | 3-speed automatic |  SE features + unique styling package |\n",
      "| SSE | 3.8L V6 (2-barrel) | 160 hp | 4-speed automatic | Sporty handling, wheels, and interior |\n",
      "| SSEi | 3.8L V6 (Fuel-injected) | 165 hp | 4-speed automatic |  SSE features + fuel injection, even sportier interior & exterior |\n",
      "\n",
      "**Value and Demand:**\n",
      "\n",
      "* **Book Value:**  The book value of a 1989 Bonneville will vary depending on its condition, mileage, and specific trim level. Websites like Kelley Blue Book or Edmunds can give you a rough estimate.\n",
      "* **Actual Market Value:**  You can often find a Bonneville for less than its book value, especially if it needs some work or has higher mileage. This is more common for the base LE and SE trims.\n",
      "* **Demand:**  While the demand for these Bonnevilles isn't extremely high, they are still sought after by enthusiasts and collectors. If you're looking to buy, mid-spring to early summer is a good time, as the market may be slightly softer then.\n",
      "\n",
      "**Things to Consider:**\n",
      "\n",
      "* **Condition:** Inspect the car thoroughly for rust, mechanical problems, and any signs of neglect. \n",
      "* **Mileage:**  A lower mileage car will generally be more valuable. \n",
      "* **Maintenance History:**  Request any available service records to assess the car's overall health.\n",
      "\n",
      "**Recommendation:**\n",
      "\n",
      "When researching prices, it's best to browse online listings for actual cars in your area. Compare different models to get a better idea of their market value. Remember, a thorough inspection and a test drive are crucial before you buy. \n",
      "\n"
     ]
    }
   ],
   "source": [
    "baseline_model = genai.GenerativeModel(\"gemini-1.5-flash-001\")\n",
    "response = baseline_model.generate_content(sample_row)\n",
    "print(response.text)"
   ]
  },
  {
   "cell_type": "markdown",
   "id": "637f9435",
   "metadata": {
    "papermill": {
     "duration": 0.013965,
     "end_time": "2024-11-14T04:29:30.162222",
     "exception": false,
     "start_time": "2024-11-14T04:29:30.148257",
     "status": "completed"
    },
    "tags": []
   },
   "source": [
    "You can use the prompt engineering techniques you have learned this week to induce the model to perform the desired task. Try some of your own ideas and see what is effective, or check out the following cells for different approaches. Note that they have different levels of effectiveness!"
   ]
  },
  {
   "cell_type": "code",
   "execution_count": 13,
   "id": "572c1aaf",
   "metadata": {
    "execution": {
     "iopub.execute_input": "2024-11-14T04:29:30.193401Z",
     "iopub.status.busy": "2024-11-14T04:29:30.192379Z",
     "iopub.status.idle": "2024-11-14T04:29:31.624786Z",
     "shell.execute_reply": "2024-11-14T04:29:31.623416Z"
    },
    "papermill": {
     "duration": 1.450834,
     "end_time": "2024-11-14T04:29:31.627266",
     "exception": false,
     "start_time": "2024-11-14T04:29:30.176432",
     "status": "completed"
    },
    "tags": []
   },
   "outputs": [
    {
     "name": "stdout",
     "output_type": "stream",
     "text": [
      "This message most likely originates from the **rec.autos.pontiac** newsgroup. \n",
      "\n",
      "Here's why:\n",
      "\n",
      "* **Subject Matter:** The message specifically discusses Pontiac Bonnevilles, making it highly relevant to a Pontiac-focused newsgroup. \n",
      "* **Terminology:** The use of model designations like LE, SE, LSE, SSE, and SSEi are specific to Pontiac Bonnevilles. \n",
      "* **Audience:** The message seeks information on the models and their value, indicating an audience interested in purchasing or learning about Bonnevilles.\n",
      "\n",
      "While other newsgroups related to cars or classic cars might see similar discussions, rec.autos.pontiac is the most likely source given the specific content. \n",
      "\n"
     ]
    }
   ],
   "source": [
    "# Ask the model directly in a zero-shot prompt.\n",
    "\n",
    "prompt = \"From what newsgroup does the following message originate?\"\n",
    "baseline_response = baseline_model.generate_content([prompt, sample_row])\n",
    "print(baseline_response.text)"
   ]
  },
  {
   "cell_type": "markdown",
   "id": "fe341b27",
   "metadata": {
    "papermill": {
     "duration": 0.014312,
     "end_time": "2024-11-14T04:29:31.655876",
     "exception": false,
     "start_time": "2024-11-14T04:29:31.641564",
     "status": "completed"
    },
    "tags": []
   },
   "source": [
    "That technique produces quite a verbose response. You could try and pick out the relevant text, or refine the prompt even further."
   ]
  },
  {
   "cell_type": "code",
   "execution_count": 14,
   "id": "e960b94e",
   "metadata": {
    "execution": {
     "iopub.execute_input": "2024-11-14T04:29:31.686668Z",
     "iopub.status.busy": "2024-11-14T04:29:31.686254Z",
     "iopub.status.idle": "2024-11-14T04:29:32.379463Z",
     "shell.execute_reply": "2024-11-14T04:29:32.378126Z"
    },
    "papermill": {
     "duration": 0.711536,
     "end_time": "2024-11-14T04:29:32.382256",
     "exception": false,
     "start_time": "2024-11-14T04:29:31.670720",
     "status": "completed"
    },
    "tags": []
   },
   "outputs": [
    {
     "name": "stdout",
     "output_type": "stream",
     "text": [
      "rec.autos.misc\n",
      "\n",
      "Incorrect.\n"
     ]
    }
   ],
   "source": [
    "from google.api_core import retry\n",
    "\n",
    "# You can use a system instruction to do more direct prompting, and get a\n",
    "# more succinct answer.\n",
    "\n",
    "system_instruct = \"\"\"\n",
    "You are a classification service. You will be passed input that represents\n",
    "a newsgroup post and you must respond with the newsgroup from which the post\n",
    "originates.\n",
    "\"\"\"\n",
    "\n",
    "instructed_model = genai.GenerativeModel(\"gemini-1.5-flash-001\",\n",
    "                                         system_instruction=system_instruct)\n",
    "\n",
    "retry_policy = {\"retry\": retry.Retry(predicate=retry.if_transient_error)}\n",
    "\n",
    "# If you want to evaluate your own technique, replace this function with your\n",
    "# model, prompt and other code and return the predicted answer.\n",
    "def predict_label(post: str) -> str:\n",
    "    response = instructed_model.generate_content(post, request_options=retry_policy)\n",
    "    rc = response.candidates[0]\n",
    "\n",
    "    # Any errors, filters, recitation, etc we can mark as a general error\n",
    "    if rc.finish_reason.name != \"STOP\":\n",
    "        return \"(error)\"\n",
    "    else:\n",
    "        # Clean up the response.\n",
    "        return response.text.strip()\n",
    "\n",
    "\n",
    "prediction = predict_label(sample_row)\n",
    "\n",
    "print(prediction)\n",
    "print()\n",
    "print(\"Correct!\" if prediction == sample_label else \"Incorrect.\")"
   ]
  },
  {
   "cell_type": "markdown",
   "id": "e5fe260f",
   "metadata": {
    "papermill": {
     "duration": 0.013849,
     "end_time": "2024-11-14T04:29:32.410644",
     "exception": false,
     "start_time": "2024-11-14T04:29:32.396795",
     "status": "completed"
    },
    "tags": []
   },
   "source": [
    "Now run a short evaluation using the function defined above. The test set is further sampled to ensure the experiment runs smoothly on the API's free tier. In practice you would evaluate over the whole set."
   ]
  },
  {
   "cell_type": "code",
   "execution_count": 15,
   "id": "42948916",
   "metadata": {
    "execution": {
     "iopub.execute_input": "2024-11-14T04:29:32.440794Z",
     "iopub.status.busy": "2024-11-14T04:29:32.440313Z",
     "iopub.status.idle": "2024-11-14T04:30:27.296972Z",
     "shell.execute_reply": "2024-11-14T04:30:27.295759Z"
    },
    "papermill": {
     "duration": 54.874648,
     "end_time": "2024-11-14T04:30:27.299517",
     "exception": false,
     "start_time": "2024-11-14T04:29:32.424869",
     "status": "completed"
    },
    "tags": []
   },
   "outputs": [
    {
     "data": {
      "application/vnd.jupyter.widget-view+json": {
       "model_id": "40e20f5776e54bf5a98bc64ad169bb23",
       "version_major": 2,
       "version_minor": 0
      },
      "text/plain": [
       "Output()"
      ]
     },
     "metadata": {},
     "output_type": "display_data"
    },
    {
     "name": "stderr",
     "output_type": "stream",
     "text": [
      "/opt/conda/lib/python3.10/site-packages/tqdm/std.py:885: TqdmExperimentalWarning: rich is experimental/alpha\n",
      "  t = cls(total=total, **tqdm_kwargs)\n"
     ]
    },
    {
     "data": {
      "text/html": [
       "<pre style=\"white-space:pre;overflow-x:auto;line-height:normal;font-family:Menlo,'DejaVu Sans Mono',consolas,'Courier New',monospace\"></pre>\n"
      ],
      "text/plain": []
     },
     "metadata": {},
     "output_type": "display_data"
    },
    {
     "data": {
      "text/html": [
       "<pre style=\"white-space:pre;overflow-x:auto;line-height:normal;font-family:Menlo,'DejaVu Sans Mono',consolas,'Courier New',monospace\">\n",
       "</pre>\n"
      ],
      "text/plain": [
       "\n"
      ]
     },
     "metadata": {},
     "output_type": "display_data"
    },
    {
     "name": "stdout",
     "output_type": "stream",
     "text": [
      "Accuracy: 25.00%\n"
     ]
    }
   ],
   "source": [
    "from tqdm.rich import tqdm\n",
    "\n",
    "tqdm.pandas()\n",
    "\n",
    "\n",
    "# Further sample the test data to be mindful of the free-tier quota.\n",
    "df_baseline_eval = sample_data(df_test, 2, '.*')\n",
    "\n",
    "# Make predictions using the sampled data.\n",
    "df_baseline_eval['Prediction'] = df_baseline_eval['Text'].progress_apply(predict_label)\n",
    "\n",
    "# And calculate the accuracy.\n",
    "accuracy = (df_baseline_eval[\"Class Name\"] == df_baseline_eval[\"Prediction\"]).sum() / len(df_baseline_eval)\n",
    "print(f\"Accuracy: {accuracy:.2%}\")"
   ]
  },
  {
   "cell_type": "markdown",
   "id": "b7e04fe1",
   "metadata": {
    "papermill": {
     "duration": 0.019599,
     "end_time": "2024-11-14T04:30:27.338139",
     "exception": false,
     "start_time": "2024-11-14T04:30:27.318540",
     "status": "completed"
    },
    "tags": []
   },
   "source": [
    "Now take a look at the dataframe to compare the predictions with the labels."
   ]
  },
  {
   "cell_type": "code",
   "execution_count": 16,
   "id": "cdec1c5b",
   "metadata": {
    "execution": {
     "iopub.execute_input": "2024-11-14T04:30:29.213814Z",
     "iopub.status.busy": "2024-11-14T04:30:29.213107Z",
     "iopub.status.idle": "2024-11-14T04:30:29.229410Z",
     "shell.execute_reply": "2024-11-14T04:30:29.228294Z"
    },
    "papermill": {
     "duration": 1.874084,
     "end_time": "2024-11-14T04:30:29.232056",
     "exception": false,
     "start_time": "2024-11-14T04:30:27.357972",
     "status": "completed"
    },
    "tags": []
   },
   "outputs": [
    {
     "data": {
      "text/html": [
       "<div>\n",
       "<style scoped>\n",
       "    .dataframe tbody tr th:only-of-type {\n",
       "        vertical-align: middle;\n",
       "    }\n",
       "\n",
       "    .dataframe tbody tr th {\n",
       "        vertical-align: top;\n",
       "    }\n",
       "\n",
       "    .dataframe thead th {\n",
       "        text-align: right;\n",
       "    }\n",
       "</style>\n",
       "<table border=\"1\" class=\"dataframe\">\n",
       "  <thead>\n",
       "    <tr style=\"text-align: right;\">\n",
       "      <th></th>\n",
       "      <th>Text</th>\n",
       "      <th>Label</th>\n",
       "      <th>Class Name</th>\n",
       "      <th>Prediction</th>\n",
       "    </tr>\n",
       "  </thead>\n",
       "  <tbody>\n",
       "    <tr>\n",
       "      <th>0</th>\n",
       "      <td>Re: Mercury Villager Minivan -- good buy?\\n\\nI...</td>\n",
       "      <td>7</td>\n",
       "      <td>rec.autos</td>\n",
       "      <td>rec.autos</td>\n",
       "    </tr>\n",
       "    <tr>\n",
       "      <th>1</th>\n",
       "      <td>Re: MR2 seats for sale\\n\\nIn article &lt;&gt;  write...</td>\n",
       "      <td>7</td>\n",
       "      <td>rec.autos</td>\n",
       "      <td>rec.autos.toyota</td>\n",
       "    </tr>\n",
       "    <tr>\n",
       "      <th>2</th>\n",
       "      <td>Re: Daytona\\n\\nIn &lt;&gt;  (Ramin Taraz) writes:\\n\\...</td>\n",
       "      <td>8</td>\n",
       "      <td>rec.motorcycles</td>\n",
       "      <td>rec.motorcycles</td>\n",
       "    </tr>\n",
       "    <tr>\n",
       "      <th>3</th>\n",
       "      <td>Re: DoD Confessional\\n\\nIn article &lt;&gt;  writes:...</td>\n",
       "      <td>8</td>\n",
       "      <td>rec.motorcycles</td>\n",
       "      <td>rec.motorcycles</td>\n",
       "    </tr>\n",
       "    <tr>\n",
       "      <th>4</th>\n",
       "      <td>HOUSTON MAILING LIST\\n\\nCan anyone mail me the...</td>\n",
       "      <td>9</td>\n",
       "      <td>rec.sport.baseball</td>\n",
       "      <td>(error)</td>\n",
       "    </tr>\n",
       "    <tr>\n",
       "      <th>5</th>\n",
       "      <td>A modest request\\n\\nI am finding the volume of...</td>\n",
       "      <td>9</td>\n",
       "      <td>rec.sport.baseball</td>\n",
       "      <td>rec.sport.baseball</td>\n",
       "    </tr>\n",
       "    <tr>\n",
       "      <th>6</th>\n",
       "      <td>Re: Schedule...\\n\\nIn article &lt;&gt;  (Gary L Dare...</td>\n",
       "      <td>10</td>\n",
       "      <td>rec.sport.hockey</td>\n",
       "      <td>rec.sports.hockey</td>\n",
       "    </tr>\n",
       "    <tr>\n",
       "      <th>7</th>\n",
       "      <td>Habs Late\\n\\nQuebec dominated Habs for first 2...</td>\n",
       "      <td>10</td>\n",
       "      <td>rec.sport.hockey</td>\n",
       "      <td>rec.sports.hockey</td>\n",
       "    </tr>\n",
       "    <tr>\n",
       "      <th>8</th>\n",
       "      <td>Re: Hearing on 29 April 1993\\n\\nIn article &lt;&gt; ...</td>\n",
       "      <td>11</td>\n",
       "      <td>sci.crypt</td>\n",
       "      <td>(error)</td>\n",
       "    </tr>\n",
       "    <tr>\n",
       "      <th>9</th>\n",
       "      <td>Re: New Encryption Algorithm\\n\\n \\n&gt;In article...</td>\n",
       "      <td>11</td>\n",
       "      <td>sci.crypt</td>\n",
       "      <td>(error)</td>\n",
       "    </tr>\n",
       "    <tr>\n",
       "      <th>10</th>\n",
       "      <td>Re: Blue LED's\\n\\nIn article &lt;&gt;  (GLADMAN AVIV...</td>\n",
       "      <td>12</td>\n",
       "      <td>sci.electronics</td>\n",
       "      <td>rec.electronics.misc</td>\n",
       "    </tr>\n",
       "    <tr>\n",
       "      <th>11</th>\n",
       "      <td>Re: 8x oversampling CD player\\n\\nIn article &lt;&gt;...</td>\n",
       "      <td>12</td>\n",
       "      <td>sci.electronics</td>\n",
       "      <td>comp.audio.digital</td>\n",
       "    </tr>\n",
       "    <tr>\n",
       "      <th>12</th>\n",
       "      <td>Antihistamine for sleep aid\\n\\n\\n\\tFor a very ...</td>\n",
       "      <td>13</td>\n",
       "      <td>sci.med</td>\n",
       "      <td>(error)</td>\n",
       "    </tr>\n",
       "    <tr>\n",
       "      <th>13</th>\n",
       "      <td>Re: Earwax\\n\\n (Stephen Montgomery-Smith) writ...</td>\n",
       "      <td>13</td>\n",
       "      <td>sci.med</td>\n",
       "      <td>misc.health</td>\n",
       "    </tr>\n",
       "    <tr>\n",
       "      <th>14</th>\n",
       "      <td>Re: Gamma Ray Bursters. WHere are they.\\n\\n (E...</td>\n",
       "      <td>14</td>\n",
       "      <td>sci.space</td>\n",
       "      <td>sci.astro</td>\n",
       "    </tr>\n",
       "    <tr>\n",
       "      <th>15</th>\n",
       "      <td>Private Support of Exploration (Russian Americ...</td>\n",
       "      <td>14</td>\n",
       "      <td>sci.space</td>\n",
       "      <td>alt.folklore.urban</td>\n",
       "    </tr>\n",
       "  </tbody>\n",
       "</table>\n",
       "</div>"
      ],
      "text/plain": [
       "                                                 Text  Label  \\\n",
       "0   Re: Mercury Villager Minivan -- good buy?\\n\\nI...      7   \n",
       "1   Re: MR2 seats for sale\\n\\nIn article <>  write...      7   \n",
       "2   Re: Daytona\\n\\nIn <>  (Ramin Taraz) writes:\\n\\...      8   \n",
       "3   Re: DoD Confessional\\n\\nIn article <>  writes:...      8   \n",
       "4   HOUSTON MAILING LIST\\n\\nCan anyone mail me the...      9   \n",
       "5   A modest request\\n\\nI am finding the volume of...      9   \n",
       "6   Re: Schedule...\\n\\nIn article <>  (Gary L Dare...     10   \n",
       "7   Habs Late\\n\\nQuebec dominated Habs for first 2...     10   \n",
       "8   Re: Hearing on 29 April 1993\\n\\nIn article <> ...     11   \n",
       "9   Re: New Encryption Algorithm\\n\\n \\n>In article...     11   \n",
       "10  Re: Blue LED's\\n\\nIn article <>  (GLADMAN AVIV...     12   \n",
       "11  Re: 8x oversampling CD player\\n\\nIn article <>...     12   \n",
       "12  Antihistamine for sleep aid\\n\\n\\n\\tFor a very ...     13   \n",
       "13  Re: Earwax\\n\\n (Stephen Montgomery-Smith) writ...     13   \n",
       "14  Re: Gamma Ray Bursters. WHere are they.\\n\\n (E...     14   \n",
       "15  Private Support of Exploration (Russian Americ...     14   \n",
       "\n",
       "            Class Name            Prediction  \n",
       "0            rec.autos             rec.autos  \n",
       "1            rec.autos      rec.autos.toyota  \n",
       "2      rec.motorcycles       rec.motorcycles  \n",
       "3      rec.motorcycles       rec.motorcycles  \n",
       "4   rec.sport.baseball               (error)  \n",
       "5   rec.sport.baseball    rec.sport.baseball  \n",
       "6     rec.sport.hockey     rec.sports.hockey  \n",
       "7     rec.sport.hockey     rec.sports.hockey  \n",
       "8            sci.crypt               (error)  \n",
       "9            sci.crypt               (error)  \n",
       "10     sci.electronics  rec.electronics.misc  \n",
       "11     sci.electronics    comp.audio.digital  \n",
       "12             sci.med               (error)  \n",
       "13             sci.med           misc.health  \n",
       "14           sci.space             sci.astro  \n",
       "15           sci.space    alt.folklore.urban  "
      ]
     },
     "execution_count": 16,
     "metadata": {},
     "output_type": "execute_result"
    }
   ],
   "source": [
    "df_baseline_eval"
   ]
  },
  {
   "cell_type": "markdown",
   "id": "fd73da6e",
   "metadata": {
    "id": "Ok7ugrLzcghX",
    "papermill": {
     "duration": 0.014964,
     "end_time": "2024-11-14T04:30:29.262665",
     "exception": false,
     "start_time": "2024-11-14T04:30:29.247701",
     "status": "completed"
    },
    "tags": []
   },
   "source": [
    "## Tune a custom model\n",
    "\n",
    "In this example you'll use tuning to help create a model that requires no prompting or system instructions and outputs succinct text from the classes you provide in the training data.\n",
    "\n",
    "The data contains both input text (the processed posts) and output text (the category, or newsgroup), which you can use to start tuning a model.\n",
    "\n",
    "The Python SDK for tuning supports Pandas dataframes as input, so you don't need any custom data generators or pipelines. Just specify the input and the relevant columns as the `input_key` and `output_key`.\n",
    "\n",
    "When calling `create_tuned_model`, you can specify model tuning hyperparameters too:\n",
    " - `epoch_count`: defines how many times to loop through the data,\n",
    " - `batch_size`: defines how many rows to process in a single step, and\n",
    " - `learning_rate`: defines the scaling factor for updating model weights at each step.\n",
    "\n",
    "You can also choose to omit them and use the defaults. [Learn more](https://developers.google.com/machine-learning/crash-course/linear-regression/hyperparameters) about these parameters and how they work. For this example these parameters were selected by running some tuning jobs and selecting parameters that were both effective and quick."
   ]
  },
  {
   "cell_type": "code",
   "execution_count": 17,
   "id": "73c227c4",
   "metadata": {
    "execution": {
     "iopub.execute_input": "2024-11-14T04:30:29.297142Z",
     "iopub.status.busy": "2024-11-14T04:30:29.296700Z",
     "iopub.status.idle": "2024-11-14T04:30:30.577265Z",
     "shell.execute_reply": "2024-11-14T04:30:30.575995Z"
    },
    "id": "pWOZlspfY8dV",
    "papermill": {
     "duration": 1.300485,
     "end_time": "2024-11-14T04:30:30.579917",
     "exception": false,
     "start_time": "2024-11-14T04:30:29.279432",
     "status": "completed"
    },
    "tags": []
   },
   "outputs": [
    {
     "name": "stdout",
     "output_type": "stream",
     "text": [
      "newsgroup-classifier-77585\n"
     ]
    }
   ],
   "source": [
    "from collections.abc import Iterable\n",
    "import random\n",
    "\n",
    "\n",
    "# Append a random number to the model ID so you can re-run with a higher chance\n",
    "# of creating a unique model ID.\n",
    "model_id = f\"newsgroup-classifier-{random.randint(10000, 99999)}\"\n",
    "\n",
    "# Upload the training data and queue the tuning job.\n",
    "tuning_op = genai.create_tuned_model(\n",
    "    \"models/gemini-1.5-flash-001-tuning\",\n",
    "    training_data=df_train,\n",
    "    input_key=\"Text\",  # the column to use as input\n",
    "    output_key=\"Class Name\",  # the column to use as output\n",
    "    id=model_id,\n",
    "    display_name=\"Newsgroup classification model\",\n",
    "    batch_size=16,\n",
    "    epoch_count=2,\n",
    ")\n",
    "\n",
    "print(model_id)"
   ]
  },
  {
   "cell_type": "markdown",
   "id": "2fcc50d8",
   "metadata": {
    "id": "NQ3YZ2MBubCY",
    "papermill": {
     "duration": 0.015403,
     "end_time": "2024-11-14T04:30:30.611647",
     "exception": false,
     "start_time": "2024-11-14T04:30:30.596244",
     "status": "completed"
    },
    "tags": []
   },
   "source": [
    "This has created a tuning job that will run in the background. To inspect the progress of the tuning job, run this cell to plot the current status and loss curve. Once the status reaches `ACTIVE`, tuning is complete and the model is ready to use.\n",
    "\n",
    "Tuning jobs are queued, so it may look like no training steps have been taken initially but it will progress. Tuning can take upwards of 20 minutes, depending on factors like your dataset size and how busy the tuning infrastrature is. Why not treat yourself to a nice cup of tea while you wait, or come and say \"Hi!\" to [yours truly](https://discord.com/users/132124213132787712) in the group [Discord](https://discord.com/invite/kaggle).\n",
    "\n",
    "It is safe to stop this cell at any point. It will not stop the tuning job."
   ]
  },
  {
   "cell_type": "code",
   "execution_count": 18,
   "id": "492159fd",
   "metadata": {
    "execution": {
     "iopub.execute_input": "2024-11-14T04:30:30.645531Z",
     "iopub.status.busy": "2024-11-14T04:30:30.645076Z",
     "iopub.status.idle": "2024-11-14T04:37:34.374145Z",
     "shell.execute_reply": "2024-11-14T04:37:34.372700Z"
    },
    "id": "c4ef5f13692d",
    "papermill": {
     "duration": 423.764628,
     "end_time": "2024-11-14T04:37:34.392766",
     "exception": false,
     "start_time": "2024-11-14T04:30:30.628138",
     "status": "completed"
    },
    "tags": []
   },
   "outputs": [
    {
     "name": "stdout",
     "output_type": "stream",
     "text": [
      "State.CREATING\n",
      "State.CREATING\n"
     ]
    },
    {
     "name": "stderr",
     "output_type": "stream",
     "text": [
      "/opt/conda/lib/python3.10/site-packages/seaborn/_oldcore.py:1119: FutureWarning: use_inf_as_na option is deprecated and will be removed in a future version. Convert inf values to NaN before operating instead.\n",
      "  with pd.option_context('mode.use_inf_as_na', True):\n",
      "/opt/conda/lib/python3.10/site-packages/seaborn/_oldcore.py:1119: FutureWarning: use_inf_as_na option is deprecated and will be removed in a future version. Convert inf values to NaN before operating instead.\n",
      "  with pd.option_context('mode.use_inf_as_na', True):\n"
     ]
    },
    {
     "name": "stdout",
     "output_type": "stream",
     "text": [
      "State.CREATING\n"
     ]
    },
    {
     "name": "stderr",
     "output_type": "stream",
     "text": [
      "/opt/conda/lib/python3.10/site-packages/seaborn/_oldcore.py:1119: FutureWarning: use_inf_as_na option is deprecated and will be removed in a future version. Convert inf values to NaN before operating instead.\n",
      "  with pd.option_context('mode.use_inf_as_na', True):\n",
      "/opt/conda/lib/python3.10/site-packages/seaborn/_oldcore.py:1119: FutureWarning: use_inf_as_na option is deprecated and will be removed in a future version. Convert inf values to NaN before operating instead.\n",
      "  with pd.option_context('mode.use_inf_as_na', True):\n"
     ]
    },
    {
     "name": "stdout",
     "output_type": "stream",
     "text": [
      "State.CREATING\n"
     ]
    },
    {
     "name": "stderr",
     "output_type": "stream",
     "text": [
      "/opt/conda/lib/python3.10/site-packages/seaborn/_oldcore.py:1119: FutureWarning: use_inf_as_na option is deprecated and will be removed in a future version. Convert inf values to NaN before operating instead.\n",
      "  with pd.option_context('mode.use_inf_as_na', True):\n",
      "/opt/conda/lib/python3.10/site-packages/seaborn/_oldcore.py:1119: FutureWarning: use_inf_as_na option is deprecated and will be removed in a future version. Convert inf values to NaN before operating instead.\n",
      "  with pd.option_context('mode.use_inf_as_na', True):\n"
     ]
    },
    {
     "name": "stdout",
     "output_type": "stream",
     "text": [
      "State.CREATING\n"
     ]
    },
    {
     "name": "stderr",
     "output_type": "stream",
     "text": [
      "/opt/conda/lib/python3.10/site-packages/seaborn/_oldcore.py:1119: FutureWarning: use_inf_as_na option is deprecated and will be removed in a future version. Convert inf values to NaN before operating instead.\n",
      "  with pd.option_context('mode.use_inf_as_na', True):\n",
      "/opt/conda/lib/python3.10/site-packages/seaborn/_oldcore.py:1119: FutureWarning: use_inf_as_na option is deprecated and will be removed in a future version. Convert inf values to NaN before operating instead.\n",
      "  with pd.option_context('mode.use_inf_as_na', True):\n"
     ]
    },
    {
     "name": "stdout",
     "output_type": "stream",
     "text": [
      "State.CREATING\n"
     ]
    },
    {
     "name": "stderr",
     "output_type": "stream",
     "text": [
      "/opt/conda/lib/python3.10/site-packages/seaborn/_oldcore.py:1119: FutureWarning: use_inf_as_na option is deprecated and will be removed in a future version. Convert inf values to NaN before operating instead.\n",
      "  with pd.option_context('mode.use_inf_as_na', True):\n",
      "/opt/conda/lib/python3.10/site-packages/seaborn/_oldcore.py:1119: FutureWarning: use_inf_as_na option is deprecated and will be removed in a future version. Convert inf values to NaN before operating instead.\n",
      "  with pd.option_context('mode.use_inf_as_na', True):\n"
     ]
    },
    {
     "name": "stdout",
     "output_type": "stream",
     "text": [
      "State.CREATING\n",
      "Done! The model is ACTIVE\n"
     ]
    },
    {
     "data": {
      "image/png": "[encoded data removed]",
      "text/plain": [
       "<Figure size 640x480 with 1 Axes>"
      ]
     },
     "metadata": {},
     "output_type": "display_data"
    }
   ],
   "source": [
    "import time\n",
    "import seaborn as sns\n",
    "\n",
    "\n",
    "while (tuned_model := genai.get_tuned_model(f\"tunedModels/{model_id}\")).state.name != 'ACTIVE':\n",
    "\n",
    "    if tuned_model.tuning_task.snapshots:\n",
    "        # If the tuning task has started, this will draw the loss so far.\n",
    "        snapshots = pd.DataFrame(tuned_model.tuning_task.snapshots)\n",
    "        sns.lineplot(data=snapshots, x=\"step\", y=\"mean_loss\")\n",
    "\n",
    "    print(tuned_model.state)\n",
    "\n",
    "    time.sleep(60)\n",
    "\n",
    "print(f\"Done! The model is {tuned_model.state.name}\")"
   ]
  },
  {
   "cell_type": "markdown",
   "id": "62cbe82d",
   "metadata": {
    "id": "9-qiIdK4u80z",
    "papermill": {
     "duration": 0.017413,
     "end_time": "2024-11-14T04:37:34.427546",
     "exception": false,
     "start_time": "2024-11-14T04:37:34.410133",
     "status": "completed"
    },
    "tags": []
   },
   "source": [
    "## Use the new model\n",
    "\n",
    "Now that you have a tuned model, try it out with custom data. You use the same API as a normal Gemini API interaction, but you specify your new model as the model name, using the `tunedModels/` prefix."
   ]
  },
  {
   "cell_type": "code",
   "execution_count": 19,
   "id": "729feb0e",
   "metadata": {
    "execution": {
     "iopub.execute_input": "2024-11-14T04:37:34.463910Z",
     "iopub.status.busy": "2024-11-14T04:37:34.463170Z",
     "iopub.status.idle": "2024-11-14T04:37:40.855917Z",
     "shell.execute_reply": "2024-11-14T04:37:40.854554Z"
    },
    "id": "hyO2-MXLvM6a",
    "papermill": {
     "duration": 6.413999,
     "end_time": "2024-11-14T04:37:40.858772",
     "exception": false,
     "start_time": "2024-11-14T04:37:34.444773",
     "status": "completed"
    },
    "tags": []
   },
   "outputs": [
    {
     "name": "stdout",
     "output_type": "stream",
     "text": [
      "sci.space\n"
     ]
    }
   ],
   "source": [
    "your_model = genai.GenerativeModel(f\"tunedModels/{model_id}\")\n",
    "\n",
    "new_text = \"\"\"\n",
    "First-timer looking to get out of here.\n",
    "\n",
    "Hi, I'm writing about my interest in travelling to the outer limits!\n",
    "\n",
    "What kind of craft can I buy? What is easiest to access from this 3rd rock?\n",
    "\n",
    "Let me know how to do that please.\n",
    "\"\"\"\n",
    "\n",
    "response = your_model.generate_content(new_text)\n",
    "print(response.text)"
   ]
  },
  {
   "cell_type": "markdown",
   "id": "37e488aa",
   "metadata": {
    "id": "xajLek9DySH_",
    "papermill": {
     "duration": 0.016835,
     "end_time": "2024-11-14T04:37:40.894411",
     "exception": false,
     "start_time": "2024-11-14T04:37:40.877576",
     "status": "completed"
    },
    "tags": []
   },
   "source": [
    "### Evaluation\n",
    "\n",
    "You can see that the model outputs labels that correspond to those in the training data, and without any system instructions or prompting, which is already a great improvement. Now see how well it performs on the test set.\n",
    "\n",
    "Note that there is no parallelism in this example; classifying the test sub-set will take a few minutes."
   ]
  },
  {
   "cell_type": "code",
   "execution_count": 20,
   "id": "a1fadc11",
   "metadata": {
    "execution": {
     "iopub.execute_input": "2024-11-14T04:37:40.930418Z",
     "iopub.status.busy": "2024-11-14T04:37:40.929977Z",
     "iopub.status.idle": "2024-11-14T04:38:41.533092Z",
     "shell.execute_reply": "2024-11-14T04:38:41.531675Z"
    },
    "id": "6T2Y3ZApvbMw",
    "papermill": {
     "duration": 60.62427,
     "end_time": "2024-11-14T04:38:41.535838",
     "exception": false,
     "start_time": "2024-11-14T04:37:40.911568",
     "status": "completed"
    },
    "tags": []
   },
   "outputs": [
    {
     "data": {
      "application/vnd.jupyter.widget-view+json": {
       "model_id": "841b93d87a7e458d965fa5635918ad95",
       "version_major": 2,
       "version_minor": 0
      },
      "text/plain": [
       "Output()"
      ]
     },
     "metadata": {},
     "output_type": "display_data"
    },
    {
     "name": "stderr",
     "output_type": "stream",
     "text": [
      "/opt/conda/lib/python3.10/site-packages/tqdm/std.py:885: TqdmExperimentalWarning: rich is experimental/alpha\n",
      "  t = cls(total=total, **tqdm_kwargs)\n"
     ]
    },
    {
     "data": {
      "text/html": [
       "<pre style=\"white-space:pre;overflow-x:auto;line-height:normal;font-family:Menlo,'DejaVu Sans Mono',consolas,'Courier New',monospace\"></pre>\n"
      ],
      "text/plain": []
     },
     "metadata": {},
     "output_type": "display_data"
    },
    {
     "data": {
      "text/html": [
       "<pre style=\"white-space:pre;overflow-x:auto;line-height:normal;font-family:Menlo,'DejaVu Sans Mono',consolas,'Courier New',monospace\">\n",
       "</pre>\n"
      ],
      "text/plain": [
       "\n"
      ]
     },
     "metadata": {},
     "output_type": "display_data"
    },
    {
     "name": "stdout",
     "output_type": "stream",
     "text": [
      "Accuracy: 96.88%\n"
     ]
    }
   ],
   "source": [
    "def classify_text(text: str) -> str:\n",
    "    \"\"\"Classify the provided text into a known newsgroup.\"\"\"\n",
    "    response = your_model.generate_content(text, request_options=retry_policy)\n",
    "    rc = response.candidates[0]\n",
    "\n",
    "    # Any errors, filters, recitation, etc we can mark as a general error\n",
    "    if rc.finish_reason.name != \"STOP\":\n",
    "        return \"(error)\"\n",
    "    else:\n",
    "        return rc.content.parts[0].text\n",
    "\n",
    "\n",
    "# The sampling here is just to minimise your quota usage. If you can, you should\n",
    "# evaluate the whole test set with `df_model_eval = df_test.copy()`.\n",
    "df_model_eval = sample_data(df_test, 4, '.*')\n",
    "\n",
    "\n",
    "df_model_eval[\"Prediction\"] = df_model_eval[\"Text\"].progress_apply(classify_text)\n",
    "\n",
    "accuracy = (df_model_eval[\"Class Name\"] == df_model_eval[\"Prediction\"]).sum() / len(df_model_eval)\n",
    "print(f\"Accuracy: {accuracy:.2%}\")"
   ]
  },
  {
   "cell_type": "markdown",
   "id": "7033727c",
   "metadata": {
    "papermill": {
     "duration": 0.023042,
     "end_time": "2024-11-14T04:38:41.582804",
     "exception": false,
     "start_time": "2024-11-14T04:38:41.559762",
     "status": "completed"
    },
    "tags": []
   },
   "source": [
    "## Compare token usage\n",
    "\n",
    "AI Studio and the Gemini API provide model tuning at no cost, however normal limits and charges apply for *use* of a tuned model.\n",
    "\n",
    "The size of the input prompt and other generation config like system instructions, as well as the number of generated output tokens, all contribute to the overall cost of a request."
   ]
  },
  {
   "cell_type": "code",
   "execution_count": 21,
   "id": "2683487b",
   "metadata": {
    "execution": {
     "iopub.execute_input": "2024-11-14T04:38:43.558733Z",
     "iopub.status.busy": "2024-11-14T04:38:43.558394Z",
     "iopub.status.idle": "2024-11-14T04:38:43.953005Z",
     "shell.execute_reply": "2024-11-14T04:38:43.951736Z"
    },
    "papermill": {
     "duration": 2.349429,
     "end_time": "2024-11-14T04:38:43.955458",
     "exception": false,
     "start_time": "2024-11-14T04:38:41.606029",
     "status": "completed"
    },
    "tags": []
   },
   "outputs": [
    {
     "name": "stdout",
     "output_type": "stream",
     "text": [
      "System instructed baseline model: 171 (input)\n",
      "Tuned model: 135 (input)\n",
      "Token savings: 26.67%\n"
     ]
    }
   ],
   "source": [
    "# Calculate the *input* cost of the baseline model with system instructions.\n",
    "sysint_tokens = instructed_model.count_tokens(sample_row).total_tokens\n",
    "print(f'System instructed baseline model: {sysint_tokens} (input)')\n",
    "\n",
    "# Calculate the input cost of the tuned model.\n",
    "tuned_tokens = your_model.count_tokens(sample_row).total_tokens\n",
    "print(f'Tuned model: {tuned_tokens} (input)')\n",
    "\n",
    "savings = (sysint_tokens - tuned_tokens) / tuned_tokens\n",
    "print(f'Token savings: {savings:.2%}')  # Note that this is only n=1."
   ]
  },
  {
   "cell_type": "markdown",
   "id": "7cdccaab",
   "metadata": {
    "papermill": {
     "duration": 0.01806,
     "end_time": "2024-11-14T04:38:43.992529",
     "exception": false,
     "start_time": "2024-11-14T04:38:43.974469",
     "status": "completed"
    },
    "tags": []
   },
   "source": [
    "The earlier verbose model also produced more output tokens than needed for this task."
   ]
  },
  {
   "cell_type": "code",
   "execution_count": 22,
   "id": "e7f32ac5",
   "metadata": {
    "execution": {
     "iopub.execute_input": "2024-11-14T04:38:44.031146Z",
     "iopub.status.busy": "2024-11-14T04:38:44.030698Z",
     "iopub.status.idle": "2024-11-14T04:38:44.940761Z",
     "shell.execute_reply": "2024-11-14T04:38:44.939450Z"
    },
    "papermill": {
     "duration": 0.932705,
     "end_time": "2024-11-14T04:38:44.943460",
     "exception": false,
     "start_time": "2024-11-14T04:38:44.010755",
     "status": "completed"
    },
    "tags": []
   },
   "outputs": [
    {
     "name": "stdout",
     "output_type": "stream",
     "text": [
      "Baseline (verbose) output tokens: 143\n",
      "Tuned output tokens: 3\n"
     ]
    }
   ],
   "source": [
    "baseline_token_output = baseline_response.usage_metadata.candidates_token_count\n",
    "print('Baseline (verbose) output tokens:', baseline_token_output)\n",
    "\n",
    "tuned_model_output = your_model.generate_content(sample_row)\n",
    "tuned_tokens_output = tuned_model_output.usage_metadata.candidates_token_count\n",
    "print('Tuned output tokens:', tuned_tokens_output)"
   ]
  },
  {
   "cell_type": "markdown",
   "id": "bde0a015",
   "metadata": {
    "id": "6c1204a5d0ab",
    "papermill": {
     "duration": 0.018062,
     "end_time": "2024-11-14T04:38:44.980008",
     "exception": false,
     "start_time": "2024-11-14T04:38:44.961946",
     "status": "completed"
    },
    "tags": []
   },
   "source": [
    "## Next steps\n",
    "\n",
    "Now that you have tuned a classification model, try some other tasks, like tuning a model to respond with a specific tone or style using hand-written examples (or even generated examples!). Kaggle hosts [a number of datasets](https://www.kaggle.com/datasets) you can try out.\n",
    "\n",
    "Learn about [when supervised fine-tuning is most effective](https://cloud.google.com/blog/products/ai-machine-learning/supervised-fine-tuning-for-gemini-llm).\n",
    "\n",
    "And check out the [fine-tuning tutorial](https://ai.google.dev/gemini-api/docs/model-tuning/tutorial?hl=en&lang=python) for another example that shows a tuned model extending beyond the training data to new, unseen inputs."
   ]
  }
 ],
 "metadata": {
  "colab": {
   "name": "day-4-fine-tuning-a-custom-model.ipynb",
   "toc_visible": true
  },
  "kaggle": {
   "accelerator": "none",
   "dataSources": [],
   "dockerImageVersionId": 30786,
   "isGpuEnabled": false,
   "isInternetEnabled": true,
   "language": "python",
   "sourceType": "notebook"
  },
  "kernelspec": {
   "display_name": "Python 3",
   "language": "python",
   "name": "python3"
  },
  "language_info": {
   "codemirror_mode": {
    "name": "ipython",
    "version": 3
   },
   "file_extension": ".py",
   "mimetype": "text/x-python",
   "name": "python",
   "nbconvert_exporter": "python",
   "pygments_lexer": "ipython3",
   "version": "3.10.14"
  },
  "papermill": {
   "default_parameters": {},
   "duration": 621.292069,
   "end_time": "2024-11-14T04:38:45.922108",
   "environment_variables": {},
   "exception": null,
   "input_path": "__notebook__.ipynb",
   "output_path": "__notebook__.ipynb",
   "parameters": {},
   "start_time": "2024-11-14T04:28:24.630039",
   "version": "2.6.0"
  },
  "widgets": {
   "application/vnd.jupyter.widget-state+json": {
    "state": {
     "205582bafe554f8e88c675b664a8ed41": {
      "model_module": "@jupyter-widgets/base",
      "model_module_version": "1.2.0",
      "model_name": "LayoutModel",
      "state": {
       "_model_module": "@jupyter-widgets/base",
       "_model_module_version": "1.2.0",
       "_model_name": "LayoutModel",
       "_view_count": null,
       "_view_module": "@jupyter-widgets/base",
       "_view_module_version": "1.2.0",
       "_view_name": "LayoutView",
       "align_content": null,
       "align_items": null,
       "align_self": null,
       "border": null,
       "bottom": null,
       "display": null,
       "flex": null,
       "flex_flow": null,
       "grid_area": null,
       "grid_auto_columns": null,
       "grid_auto_flow": null,
       "grid_auto_rows": null,
       "grid_column": null,
       "grid_gap": null,
       "grid_row": null,
       "grid_template_areas": null,
       "grid_template_columns": null,
       "grid_template_rows": null,
       "height": null,
       "justify_content": null,
       "justify_items": null,
       "left": null,
       "margin": null,
       "max_height": null,
       "max_width": null,
       "min_height": null,
       "min_width": null,
       "object_fit": null,
       "object_position": null,
       "order": null,
       "overflow": null,
       "overflow_x": null,
       "overflow_y": null,
       "padding": null,
       "right": null,
       "top": null,
       "visibility": null,
       "width": null
      }
     },
     "40e20f5776e54bf5a98bc64ad169bb23": {
      "model_module": "@jupyter-widgets/output",
      "model_module_version": "1.0.0",
      "model_name": "OutputModel",
      "state": {
       "_dom_classes": [],
       "_model_module": "@jupyter-widgets/output",
       "_model_module_version": "1.0.0",
       "_model_name": "OutputModel",
       "_view_count": null,
       "_view_module": "@jupyter-widgets/output",
       "_view_module_version": "1.0.0",
       "_view_name": "OutputView",
       "layout": "IPY_MODEL_8b79628b780a47eaaff336d1f596416e",
       "msg_id": "",
       "outputs": [
        {
         "data": {
          "text/html": "<pre style=\"white-space:pre;overflow-x:auto;line-height:normal;font-family:Menlo,'DejaVu Sans Mono',consolas,'Courier New',monospace\"><span style=\"color: #800080; text-decoration-color: #800080\"> 100%</span> <span style=\"color: #729c1f; text-decoration-color: #729c1f\">━━━━━━━━━━━━━━━━━━━━━━━━━━━━━━━━━━━━━━━━━━━━━━━━━━━━━━━━━━━━━━━━━━━━━━━</span> <span style=\"color: #008000; text-decoration-color: #008000\">16/16 </span> [ <span style=\"color: #808000; text-decoration-color: #808000\">0:00:10</span> &lt; <span style=\"color: #008080; text-decoration-color: #008080\">0:00:00</span> , <span style=\"color: #800000; text-decoration-color: #800000\">1 it/s</span> ]\n</pre>\n",
          "text/plain": "\u001b[35m 100%\u001b[0m \u001b[38;2;114;156;31m━━━━━━━━━━━━━━━━━━━━━━━━━━━━━━━━━━━━━━━━━━━━━━━━━━━━━━━━━━━━━━━━━━━━━━━\u001b[0m \u001b[32m16/16 \u001b[0m [ \u001b[33m0:00:10\u001b[0m < \u001b[36m0:00:00\u001b[0m , \u001b[31m1 it/s\u001b[0m ]\n"
         },
         "metadata": {},
         "output_type": "display_data"
        }
       ]
      }
     },
     "841b93d87a7e458d965fa5635918ad95": {
      "model_module": "@jupyter-widgets/output",
      "model_module_version": "1.0.0",
      "model_name": "OutputModel",
      "state": {
       "_dom_classes": [],
       "_model_module": "@jupyter-widgets/output",
       "_model_module_version": "1.0.0",
       "_model_name": "OutputModel",
       "_view_count": null,
       "_view_module": "@jupyter-widgets/output",
       "_view_module_version": "1.0.0",
       "_view_name": "OutputView",
       "layout": "IPY_MODEL_205582bafe554f8e88c675b664a8ed41",
       "msg_id": "",
       "outputs": [
        {
         "data": {
          "text/html": "<pre style=\"white-space:pre;overflow-x:auto;line-height:normal;font-family:Menlo,'DejaVu Sans Mono',consolas,'Courier New',monospace\"><span style=\"color: #800080; text-decoration-color: #800080\"> 100%</span> <span style=\"color: #729c1f; text-decoration-color: #729c1f\">━━━━━━━━━━━━━━━━━━━━━━━━━━━━━━━━━━━━━━━━━━━━━━━━━━━━━━━━━━━━━━━━━━━━━━━</span> <span style=\"color: #008000; text-decoration-color: #008000\">32/32 </span> [ <span style=\"color: #808000; text-decoration-color: #808000\">0:00:59</span> &lt; <span style=\"color: #008080; text-decoration-color: #008080\">0:00:00</span> , <span style=\"color: #800000; text-decoration-color: #800000\">1 it/s</span> ]\n</pre>\n",
          "text/plain": "\u001b[35m 100%\u001b[0m \u001b[38;2;114;156;31m━━━━━━━━━━━━━━━━━━━━━━━━━━━━━━━━━━━━━━━━━━━━━━━━━━━━━━━━━━━━━━━━━━━━━━━\u001b[0m \u001b[32m32/32 \u001b[0m [ \u001b[33m0:00:59\u001b[0m < \u001b[36m0:00:00\u001b[0m , \u001b[31m1 it/s\u001b[0m ]\n"
         },
         "metadata": {},
         "output_type": "display_data"
        }
       ]
      }
     },
     "8b79628b780a47eaaff336d1f596416e": {
      "model_module": "@jupyter-widgets/base",
      "model_module_version": "1.2.0",
      "model_name": "LayoutModel",
      "state": {
       "_model_module": "@jupyter-widgets/base",
       "_model_module_version": "1.2.0",
       "_model_name": "LayoutModel",
       "_view_count": null,
       "_view_module": "@jupyter-widgets/base",
       "_view_module_version": "1.2.0",
       "_view_name": "LayoutView",
       "align_content": null,
       "align_items": null,
       "align_self": null,
       "border": null,
       "bottom": null,
       "display": null,
       "flex": null,
       "flex_flow": null,
       "grid_area": null,
       "grid_auto_columns": null,
       "grid_auto_flow": null,
       "grid_auto_rows": null,
       "grid_column": null,
       "grid_gap": null,
       "grid_row": null,
       "grid_template_areas": null,
       "grid_template_columns": null,
       "grid_template_rows": null,
       "height": null,
       "justify_content": null,
       "justify_items": null,
       "left": null,
       "margin": null,
       "max_height": null,
       "max_width": null,
       "min_height": null,
       "min_width": null,
       "object_fit": null,
       "object_position": null,
       "order": null,
       "overflow": null,
       "overflow_x": null,
       "overflow_y": null,
       "padding": null,
       "right": null,
       "top": null,
       "visibility": null,
       "width": null
      }
     }
    },
    "version_major": 2,
    "version_minor": 0
   }
  }
 },
 "nbformat": 4,
 "nbformat_minor": 5
}
